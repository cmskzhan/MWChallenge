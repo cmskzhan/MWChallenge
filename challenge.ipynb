{
 "cells": [
  {
   "cell_type": "markdown",
   "metadata": {},
   "source": [
    "Martial Wace take home challenges"
   ]
  },
  {
   "cell_type": "code",
   "execution_count": 21,
   "metadata": {},
   "outputs": [
    {
     "name": "stdout",
     "output_type": "stream",
     "text": [
      "Jun 12 23:59:59 2022 GMT\n",
      "77  days before expiration\n"
     ]
    }
   ],
   "source": [
    "# Challenge A, python script to retrieve SSL expiration date\n",
    "\n",
    "# the quickest and easiest way is to simply query directly to www.mwam.com\n",
    "import ssl\n",
    "import socket\n",
    "from datetime import datetime\n",
    "\n",
    "hostname = 'www.mwam.com'\n",
    "port = '443'\n",
    "context = ssl.create_default_context()\n",
    "\n",
    "with socket.create_connection((hostname, port)) as sock:\n",
    "    with context.wrap_socket(sock, server_hostname = hostname) as ssock:\n",
    "        certificate = ssock.getpeercert()\n",
    "\n",
    "\n",
    "print(certificate['notAfter'])\n",
    "certExpires = datetime.strptime(certificate['notAfter'], '%b %d %H:%M:%S %Y %Z')\n",
    "print((certExpires - datetime.now()).days,  \" days before expiration\")\n"
   ]
  },
  {
   "cell_type": "code",
   "execution_count": 24,
   "metadata": {},
   "outputs": [
    {
     "name": "stdout",
     "output_type": "stream",
     "text": [
      "Jun 13 00:59:59 2022 \n",
      "77  days before expiration\n"
     ]
    }
   ],
   "source": [
    "# Alternatively retrieving from Qualys SSL Labs API, this is slower and takes about 2.4s to complete (with Cache on)\n",
    "import requests\n",
    "from datetime import datetime\n",
    "\n",
    "exp_dates = []\n",
    "response = requests.get(f\"https://api.ssllabs.com/api/v3/analyze?host={hostname}&fromCache=on&all=done\")\n",
    "raw_certs = response.json()\n",
    "\n",
    "\n",
    "for i in raw_certs['certs']:\n",
    "    exp_dates.append(datetime.fromtimestamp(i['notAfter']/1000))\n",
    "    \n",
    "\n",
    "print(min(exp_dates).strftime('%b %d %H:%M:%S %Y %Z')) # find the earliest expiration date in the certificate chain\n",
    "print((certExpires - datetime.now()).days,  \" days before expiration\")"
   ]
  },
  {
   "cell_type": "markdown",
   "metadata": {},
   "source": [
    "Docker file is also on the repo. <br>\n",
    "docker push cmskzhan/streamlits:WMChallenge_01"
   ]
  },
  {
   "cell_type": "code",
   "execution_count": null,
   "metadata": {},
   "outputs": [],
   "source": [
    "# Challenge B\n",
    "import smtplib\n",
    "def send_notification(days_to_expire):\n",
    "    smtp_port = 587\n",
    "    smtp_server = \"smtp.mwam.com\"\n",
    "    sender_email = \"operations@mwam.com\"\n",
    "    receiver_email = \"webmaster@mwam.com\"\n",
    "    password = \"smptPassword\"\n",
    "    if days_to_expire== 1:\n",
    "        days = \"1 day\"\n",
    "    else:\n",
    "        days = str(days_to_expire) + \" days\"\n",
    "        \n",
    "    message = \"\"\"\\\n",
    "        Subject: Certificate Expiration\n",
    "        The TLS Certificate for your site expires in {days}\"\"\"\n",
    "\n",
    "    email_context = ssl.create_default_context()\n",
    "    with smtplib.SMTP(smtp_server, smtp_port) as server:\n",
    "        server.starttls(context = email_context)\n",
    "        server.login(sender_email, password)\n",
    "        server.sendmail(sender_email, \n",
    "                        receiver_email, \n",
    "                        message.format(days = days))"
   ]
  },
  {
   "cell_type": "markdown",
   "metadata": {},
   "source": [
    "How would you scale this script and run it with resiliency to e.g. handle 1000s of domains? <br>\n",
    "<br>\n",
    "There are a few solutions, I've never tried any of them though.<br>\n",
    "1. async http requests. Python has asyncio and aiohttp module for this <br>\n",
    "2. multiple threads. Python has concurrent module with ThreadPoolExecutor <br>\n",
    "3. multipile processes.  <br>\n",
    "Alternatively, scale up thousands of pods on K8S is another solution. The docker image needs to be re-written obviously."
   ]
  },
  {
   "cell_type": "markdown",
   "metadata": {},
   "source": [
    "How would you monitor/alert on this service?<br>\n",
    "<br>\n",
    "This service would probably run on a cronjob. So checking the status of the service is quite straightforward. Furthermore, instead of sending out email, a function to create a webhook query to pagerduty or teams channel when expiration date is below certain threshold can be triggered, if need to be. <br>\n",
    "For capturing exceptions, dumping logs to tools such as logstash, splunk, then setup alerts from there is a usual approach. "
   ]
  },
  {
   "cell_type": "markdown",
   "metadata": {},
   "source": [
    "What would you do to handle adding new domains to scan or certificate expiry events from your service? <br>\n",
    "<br>\n",
    "Instead of hardcoding the <hostname> in my code, it would come from the script's parameters or human input. Alternatively, put up an input file somewhere for the script to read."
   ]
  },
  {
   "cell_type": "markdown",
   "metadata": {},
   "source": [
    "After some time, your report requires more enhancements requested by the Tech team of the company. How would you handle these \"continuous\" requirement changes in a sustainable manner?<br>\n",
    "<br>\n",
    "Make the script more modula, such as create this service as a class for others to import, utilizing OOP concepts such as Polymorphism to make the code more flexible. "
   ]
  }
 ],
 "metadata": {
  "interpreter": {
   "hash": "916dbcbb3f70747c44a77c7bcd40155683ae19c65e1c03b4aa3499c5328201f1"
  },
  "kernelspec": {
   "display_name": "Python 3.8.10 64-bit",
   "language": "python",
   "name": "python3"
  },
  "language_info": {
   "codemirror_mode": {
    "name": "ipython",
    "version": 3
   },
   "file_extension": ".py",
   "mimetype": "text/x-python",
   "name": "python",
   "nbconvert_exporter": "python",
   "pygments_lexer": "ipython3",
   "version": "3.8.10"
  },
  "orig_nbformat": 4
 },
 "nbformat": 4,
 "nbformat_minor": 2
}
